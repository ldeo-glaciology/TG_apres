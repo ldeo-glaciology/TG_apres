{
 "cells": [
  {
   "cell_type": "markdown",
   "id": "76381048",
   "metadata": {},
   "source": [
    "# First explotation of TG ApRES data. "
   ]
  },
  {
   "cell_type": "code",
   "execution_count": null,
   "id": "80feb20f",
   "metadata": {},
   "outputs": [],
   "source": [
    "import bokeh.io\n",
    "bokeh.io.output_notebook()"
   ]
  },
  {
   "cell_type": "code",
   "execution_count": null,
   "id": "b480be20-1e1e-4e23-b31c-891ccfca6242",
   "metadata": {},
   "outputs": [],
   "source": [
    "%load_ext autoreload\n",
    "%autoreload 2 \n",
    "import hvplot.xarray\n",
    "import sys\n",
    "sys.path.append(\"/Users/jkingslake/Documents/science/ApRES/xapres\")\n",
    "import xapres as xa\n",
    "import matplotlib.pyplot as plt\n",
    "import xarray as xr\n",
    "from datatree import DataTree\n"
   ]
  },
  {
   "cell_type": "markdown",
   "id": "42d66603",
   "metadata": {},
   "source": [
    "## Load from the google bukcet and save a subset of the data to local disk\n",
    "The next two cells can be missed out if running on local machine where you've saved 'zarrs/LTG_stacked.zarr' etc."
   ]
  },
  {
   "cell_type": "code",
   "execution_count": 3,
   "id": "3cfe65ce-6345-4f5e-9adb-6e97f33bafdf",
   "metadata": {},
   "outputs": [],
   "source": [
    "#LTG = xr.open_dataset('gs://ldeo-glaciology/apres/thwaites/continuous/ApRES_LTG/zarr/full.zarr',\n",
    "#                      engine = 'zarr',\n",
    "#                      chunks = {})\n",
    "#LK1 = xr.open_dataset('gs://ldeo-glaciology/apres/thwaites/continuous/ApRES_Lake1/zarr/full.zarr',\n",
    "#                      engine = 'zarr',\n",
    "#                      chunks = {})\n",
    "#LK2 = xr.open_dataset('gs://ldeo-glaciology/apres/thwaites/continuous/ApRES_Lake2/zarr/full.zarr',\n",
    "#                      engine = 'zarr',\n",
    "#                      chunks = {})\n",
    "#ds_list = [LTG, LK1, LK2]\n",
    "#dt = DataTree.from_dict({\"LTG\": ds_list[0], \"LK1\": ds_list[1], \"LK2\": ds_list[2]})\n",
    "#dt = dt.drop_vars(['chirp', 'profile'])"
   ]
  },
  {
   "cell_type": "code",
   "execution_count": 4,
   "id": "4b9b1117",
   "metadata": {},
   "outputs": [],
   "source": [
    "#LTG.drop_vars(['chirp', 'profile']).to_zarr('zarrs/LTG_stacked.zarr')\n",
    "#LK1.drop_vars(['chirp', 'profile']).to_zarr('zarrs/LK1_stacked.zarr')\n",
    "#LK2.drop_vars(['chirp', 'profile']).to_zarr('zarrs/LK2_stacked.zarr')"
   ]
  },
  {
   "cell_type": "code",
   "execution_count": 14,
   "id": "289cae86",
   "metadata": {},
   "outputs": [],
   "source": [
    "def load_zarr(f):\n",
    "    return xr.open_dataset(f, engine = 'zarr', chunks = {})\n",
    "LTG = load_zarr('zarrs/LTG_stacked.zarr').load()\n",
    "LK1 = load_zarr('zarrs/LK1_stacked.zarr').load()\n",
    "LK2 = load_zarr('zarrs/LK2_stacked.zarr').load()\n",
    "dLTG = LTG.profile_stacked.displacement_timeseries().compute()\n",
    "dLK1 = LK1.profile_stacked.displacement_timeseries().compute()\n",
    "dLK2 = LK2.profile_stacked.displacement_timeseries().compute()"
   ]
  },
  {
   "cell_type": "markdown",
   "id": "7c1541ad",
   "metadata": {},
   "source": [
    "## Plotting"
   ]
  },
  {
   "cell_type": "code",
   "execution_count": null,
   "id": "94e2d43f-449c-42c2-be34-6f761e32f279",
   "metadata": {},
   "outputs": [],
   "source": [
    "LTG.profile_stacked.dB().squeeze().hvplot(x='time', y = 'profile_range', height = 700, width = 1300, yincrease = False)"
   ]
  },
  {
   "cell_type": "code",
   "execution_count": null,
   "id": "26c12619-e9bc-49ab-b4fc-d7b4db8470ca",
   "metadata": {},
   "outputs": [],
   "source": [
    "LK1.profile_stacked.dB().squeeze().hvplot(x='time', y = 'profile_range', height = 700, width = 1300, yincrease = False)"
   ]
  },
  {
   "cell_type": "code",
   "execution_count": null,
   "id": "f5a8d160-254a-4395-8ea3-8fd535cb62b6",
   "metadata": {},
   "outputs": [],
   "source": [
    "LK2.profile_stacked.dB().squeeze().hvplot(x='time', y = 'profile_range', height = 700, width = 1300, yincrease = False)"
   ]
  },
  {
   "cell_type": "code",
   "execution_count": null,
   "id": "869168a1-4f58-44b2-a729-35bbe2efbae9",
   "metadata": {},
   "outputs": [],
   "source": [
    "LTG.profile_stacked.dB().squeeze().hvplot(x='profile_range', y= 'profile_stacked').show()\n"
   ]
  },
  {
   "cell_type": "code",
   "execution_count": null,
   "id": "ab58275c-3215-4ebf-bc72-841448a3c974",
   "metadata": {},
   "outputs": [],
   "source": [
    "LK1.profile_stacked.dB().squeeze().hvplot(x='profile_range', y= 'profile_stacked')"
   ]
  },
  {
   "cell_type": "code",
   "execution_count": null,
   "id": "1d809344-f299-4313-840f-11f30a11792f",
   "metadata": {},
   "outputs": [],
   "source": [
    "LK2.profile_stacked.dB().squeeze().hvplot(x='profile_range', y= 'profile_stacked')"
   ]
  },
  {
   "cell_type": "code",
   "execution_count": null,
   "id": "47a7317e-0624-4719-b963-01b42ddeaaf0",
   "metadata": {},
   "outputs": [],
   "source": []
  },
  {
   "cell_type": "code",
   "execution_count": null,
   "id": "5af8ee36-04d2-43b2-b994-2dac522de29d",
   "metadata": {},
   "outputs": [],
   "source": [
    "dLTG.displacement.squeeze().plot(x='time', yincrease = False, figsize = (20,10))\n",
    "plt.title('LTG shot-to-shot (~daily) displacement');"
   ]
  },
  {
   "cell_type": "code",
   "execution_count": null,
   "id": "00c84334-7d53-433a-a565-2c3ed5d904e1",
   "metadata": {},
   "outputs": [],
   "source": [
    "dLK1.displacement.squeeze().plot(x='time', yincrease = False, figsize = (20,10))\n",
    "plt.title('LK1 shot-to-shot (~daily) displacement');"
   ]
  },
  {
   "cell_type": "code",
   "execution_count": null,
   "id": "9eaae5a7-cd30-49df-80a9-f233f2913eb8",
   "metadata": {},
   "outputs": [],
   "source": [
    "dLK2.displacement.squeeze().plot(x='time', yincrease = False, figsize = (20,10))\n",
    "plt.title('LK2 shot-to-shot (~daily) displacement');"
   ]
  },
  {
   "cell_type": "code",
   "execution_count": null,
   "id": "d2f4e0b1-59a8-4422-a21f-ca45db50f273",
   "metadata": {},
   "outputs": [],
   "source": [
    "dLTG.displacement.cumsum(dim='time').squeeze().plot(x='time', yincrease = False, figsize = (20,10))\n",
    "plt.title('LTG cumulative displacement');"
   ]
  },
  {
   "cell_type": "code",
   "execution_count": null,
   "id": "90025476-d806-4435-9360-977375711b92",
   "metadata": {},
   "outputs": [],
   "source": [
    "dLK1.displacement.cumsum(dim='time').squeeze().plot(x='time', yincrease = False, figsize = (20,10))\n",
    "plt.title('LK1 cumulative displacement');"
   ]
  },
  {
   "cell_type": "code",
   "execution_count": null,
   "id": "e9a98176-c369-4897-bad3-57709297d750",
   "metadata": {},
   "outputs": [],
   "source": [
    "dLK2.displacement.cumsum(dim='time').squeeze().plot(y='bin_depth', x='time', yincrease = False, figsize = (20,10))\n",
    "plt.title('LK2 cumulative displacement');"
   ]
  },
  {
   "cell_type": "code",
   "execution_count": null,
   "id": "c2a46c49-3f2c-462c-84a1-010e19727053",
   "metadata": {},
   "outputs": [],
   "source": [
    "dLTG.displacement.squeeze().hvplot(x='displacement', y = 'bin_depth', xlim = (-0.06, 0.06), ylim = (1200, 0))"
   ]
  },
  {
   "cell_type": "code",
   "execution_count": null,
   "id": "e51c481b-2cfd-46e4-a7ed-f9eb7af6df64",
   "metadata": {},
   "outputs": [],
   "source": [
    "dLK1.displacement.squeeze().hvplot(x='displacement', y = 'bin_depth', xlim = (-0.06, 0.06), ylim = (2200, 0))\n"
   ]
  },
  {
   "cell_type": "code",
   "execution_count": null,
   "id": "dba1ff8d-93c0-42ac-8597-3cc5fb405973",
   "metadata": {},
   "outputs": [],
   "source": [
    "dLK2.displacement.squeeze().hvplot(x='displacement', y = 'bin_depth', xlim = (-0.06, 0.06), ylim = (2000, 0))\n"
   ]
  },
  {
   "cell_type": "code",
   "execution_count": null,
   "id": "44eeed43",
   "metadata": {},
   "outputs": [],
   "source": [
    "fig, ax = plt.subplots(figsize=(16,8))\n",
    "dLTG.strain_rate.plot(ax=ax, label = 'LTG')\n",
    "dLK1.strain_rate.plot(ax=ax, label = 'LK1')\n",
    "dLK2.strain_rate.plot(ax=ax, label = 'LK2')\n",
    "ax.set_title('time series of vertical strain rate from three continuous ApRES sites on TG')\n",
    "ax.set_ylabel(dLTG.strain_rate.attrs['long_name'])\n",
    "ax.legend();"
   ]
  },
  {
   "cell_type": "code",
   "execution_count": null,
   "id": "ffd3c043",
   "metadata": {},
   "outputs": [],
   "source": []
  }
 ],
 "metadata": {
  "kernelspec": {
   "display_name": "Python 3 (ipykernel)",
   "language": "python",
   "name": "python3"
  },
  "language_info": {
   "codemirror_mode": {
    "name": "ipython",
    "version": 3
   },
   "file_extension": ".py",
   "mimetype": "text/x-python",
   "name": "python",
   "nbconvert_exporter": "python",
   "pygments_lexer": "ipython3",
   "version": "3.11.6"
  }
 },
 "nbformat": 4,
 "nbformat_minor": 5
}
